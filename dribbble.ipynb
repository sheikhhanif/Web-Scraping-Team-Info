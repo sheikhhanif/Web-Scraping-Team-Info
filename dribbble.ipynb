{
 "cells": [
  {
   "cell_type": "code",
   "execution_count": 1,
   "metadata": {},
   "outputs": [
    {
     "data": {
      "text/html": [
       "<div>\n",
       "<style scoped>\n",
       "    .dataframe tbody tr th:only-of-type {\n",
       "        vertical-align: middle;\n",
       "    }\n",
       "\n",
       "    .dataframe tbody tr th {\n",
       "        vertical-align: top;\n",
       "    }\n",
       "\n",
       "    .dataframe thead th {\n",
       "        text-align: right;\n",
       "    }\n",
       "</style>\n",
       "<table border=\"1\" class=\"dataframe\">\n",
       "  <thead>\n",
       "    <tr style=\"text-align: right;\">\n",
       "      <th></th>\n",
       "      <th>names</th>\n",
       "      <th>Title</th>\n",
       "    </tr>\n",
       "  </thead>\n",
       "  <tbody>\n",
       "    <tr>\n",
       "      <th>0</th>\n",
       "      <td>Ryan Arruda</td>\n",
       "      <td>Community Events Manager</td>\n",
       "    </tr>\n",
       "    <tr>\n",
       "      <th>1</th>\n",
       "      <td>Mike August</td>\n",
       "      <td>Sales Development Representative</td>\n",
       "    </tr>\n",
       "    <tr>\n",
       "      <th>2</th>\n",
       "      <td>Andrew Austin</td>\n",
       "      <td>Product Designer</td>\n",
       "    </tr>\n",
       "    <tr>\n",
       "      <th>3</th>\n",
       "      <td>Jessica Barry</td>\n",
       "      <td>Senior Accountant</td>\n",
       "    </tr>\n",
       "    <tr>\n",
       "      <th>4</th>\n",
       "      <td>Dave Baker</td>\n",
       "      <td>Software Engineer</td>\n",
       "    </tr>\n",
       "  </tbody>\n",
       "</table>\n",
       "</div>"
      ],
      "text/plain": [
       "           names                             Title\n",
       "0    Ryan Arruda          Community Events Manager\n",
       "1    Mike August  Sales Development Representative\n",
       "2  Andrew Austin                  Product Designer\n",
       "3  Jessica Barry                 Senior Accountant\n",
       "4     Dave Baker                 Software Engineer"
      ]
     },
     "execution_count": 1,
     "metadata": {},
     "output_type": "execute_result"
    }
   ],
   "source": [
    "# importing modules\n",
    "import pandas as pd\n",
    "import re\n",
    "from requests import get\n",
    "from bs4 import BeautifulSoup\n",
    "\n",
    "# getting url and converting into bs4 element\n",
    "url = \"https://dribbble.com/about\"\n",
    "response = get(url)\n",
    "html_soup = BeautifulSoup(response.text, 'html.parser')\n",
    "\n",
    "# finding all members tag\n",
    "members = html_soup.find_all('h3', class_ = 'h4 mt0')\n",
    "name = []\n",
    "for m in members:\n",
    "    name.append(m.text)\n",
    "    \n",
    "# finding all title tag\n",
    "title = html_soup.find_all('small', class_ = 'text-small-caps text-subdued')\n",
    "position = []\n",
    "for pos in title:\n",
    "    position.append(pos.text)\n",
    "    \n",
    "\n",
    "# saving data as pandas dataframe\n",
    "dribbble_data = pd.DataFrame({'names': name,\n",
    "                               'Title': position,\n",
    "                              })\n",
    "dribbble_data.to_csv('dribble.csv')\n",
    "\n",
    "# checking data\n",
    "dribbble_data.head()"
   ]
  },
  {
   "cell_type": "code",
   "execution_count": null,
   "metadata": {},
   "outputs": [],
   "source": []
  }
 ],
 "metadata": {
  "kernelspec": {
   "display_name": "Python 3",
   "language": "python",
   "name": "python3"
  },
  "language_info": {
   "codemirror_mode": {
    "name": "ipython",
    "version": 3
   },
   "file_extension": ".py",
   "mimetype": "text/x-python",
   "name": "python",
   "nbconvert_exporter": "python",
   "pygments_lexer": "ipython3",
   "version": "3.6.8"
  }
 },
 "nbformat": 4,
 "nbformat_minor": 2
}
