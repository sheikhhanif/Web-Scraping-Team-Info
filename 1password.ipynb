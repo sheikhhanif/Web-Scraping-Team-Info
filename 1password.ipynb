{
 "cells": [
  {
   "cell_type": "code",
   "execution_count": 1,
   "metadata": {},
   "outputs": [
    {
     "data": {
      "text/html": [
       "<div>\n",
       "<style scoped>\n",
       "    .dataframe tbody tr th:only-of-type {\n",
       "        vertical-align: middle;\n",
       "    }\n",
       "\n",
       "    .dataframe tbody tr th {\n",
       "        vertical-align: top;\n",
       "    }\n",
       "\n",
       "    .dataframe thead th {\n",
       "        text-align: right;\n",
       "    }\n",
       "</style>\n",
       "<table border=\"1\" class=\"dataframe\">\n",
       "  <thead>\n",
       "    <tr style=\"text-align: right;\">\n",
       "      <th></th>\n",
       "      <th>names</th>\n",
       "      <th>Title</th>\n",
       "    </tr>\n",
       "  </thead>\n",
       "  <tbody>\n",
       "    <tr>\n",
       "      <th>0</th>\n",
       "      <td>Jeff Shiner</td>\n",
       "      <td>CEO (Chief Eliminator of Obstacles)</td>\n",
       "    </tr>\n",
       "    <tr>\n",
       "      <th>1</th>\n",
       "      <td>Roustem Karimov</td>\n",
       "      <td>Founder (Brain &amp; Vision)</td>\n",
       "    </tr>\n",
       "    <tr>\n",
       "      <th>2</th>\n",
       "      <td>Dave Teare</td>\n",
       "      <td>Founder (Heart &amp; Soul)</td>\n",
       "    </tr>\n",
       "    <tr>\n",
       "      <th>3</th>\n",
       "      <td>Sara Teare</td>\n",
       "      <td>Minister of Magic</td>\n",
       "    </tr>\n",
       "    <tr>\n",
       "      <th>4</th>\n",
       "      <td>Dan V Peterson</td>\n",
       "      <td>Lead Designer</td>\n",
       "    </tr>\n",
       "  </tbody>\n",
       "</table>\n",
       "</div>"
      ],
      "text/plain": [
       "             names                                Title\n",
       "0      Jeff Shiner  CEO (Chief Eliminator of Obstacles)\n",
       "1  Roustem Karimov             Founder (Brain & Vision)\n",
       "2       Dave Teare               Founder (Heart & Soul)\n",
       "3       Sara Teare                    Minister of Magic\n",
       "4   Dan V Peterson                        Lead Designer"
      ]
     },
     "execution_count": 1,
     "metadata": {},
     "output_type": "execute_result"
    }
   ],
   "source": [
    "# importing modules\n",
    "import pandas as pd\n",
    "import re\n",
    "from requests import get\n",
    "from bs4 import BeautifulSoup\n",
    "\n",
    "# getting url and converting into bs4 element\n",
    "url = \"https://1password.com/company/\"\n",
    "response = get(url)\n",
    "html_soup = BeautifulSoup(response.text, 'html.parser')\n",
    "\n",
    "# finding all members list tag\n",
    "li = html_soup.find('ul', {'class': 'people'})\n",
    "children = li.findChildren(\"li\" , recursive=False)\n",
    "\n",
    "# extracting names\n",
    "members = li.find_all('h2')\n",
    "names = []\n",
    "for m in members:\n",
    "    names.append(m.text)\n",
    "    \n",
    "# finding all title tag\n",
    "title = li.find_all('h3')\n",
    "position = []\n",
    "for pos in title:\n",
    "    position.append(pos.text)\n",
    "    \n",
    "\n",
    "# saving data as pandas dataframe\n",
    "password_data = pd.DataFrame({'names': names,\n",
    "                               'Title': position,\n",
    "                              })\n",
    "password_data.to_csv('password.csv')\n",
    "\n",
    "# looking few lines of data\n",
    "password_data.head()"
   ]
  },
  {
   "cell_type": "code",
   "execution_count": null,
   "metadata": {},
   "outputs": [],
   "source": []
  }
 ],
 "metadata": {
  "kernelspec": {
   "display_name": "Python 3",
   "language": "python",
   "name": "python3"
  },
  "language_info": {
   "codemirror_mode": {
    "name": "ipython",
    "version": 3
   },
   "file_extension": ".py",
   "mimetype": "text/x-python",
   "name": "python",
   "nbconvert_exporter": "python",
   "pygments_lexer": "ipython3",
   "version": "3.6.8"
  }
 },
 "nbformat": 4,
 "nbformat_minor": 2
}
